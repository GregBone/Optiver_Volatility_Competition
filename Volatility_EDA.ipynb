{
 "cells": [
  {
   "cell_type": "markdown",
   "metadata": {
    "collapsed": true,
    "pycharm": {
     "name": "#%% md\n"
    }
   },
   "source": [
    "# Optiver Volatility EDA #"
   ]
  },
  {
   "cell_type": "markdown",
   "source": [
    "## Import Necessary Packages ##"
   ],
   "metadata": {
    "collapsed": false,
    "pycharm": {
     "name": "#%% md\n"
    }
   }
  },
  {
   "cell_type": "code",
   "execution_count": 1,
   "outputs": [],
   "source": [
    "import pyarrow.parquet as pq\n",
    "import pyarrow as pa\n",
    "import numpy as np\n",
    "import pandas as pd\n",
    "import os\n",
    "import sys\n",
    "import matplotlib.pyplot as plt"
   ],
   "metadata": {
    "collapsed": false,
    "pycharm": {
     "name": "#%%\n"
    }
   }
  },
  {
   "cell_type": "code",
   "execution_count": 2,
   "outputs": [],
   "source": [
    "# Change Working Directory\n",
    "\n",
    "os.chdir(r'C:\\Users\\Greg.Bone\\Documents\\GitHub\\Optiver_Volatility')\n",
    "\n",
    "# List All Book Folders ##\n",
    "\n",
    "book_train_foldrs = os.listdir(r'Data\\book_train.parquet')"
   ],
   "metadata": {
    "collapsed": false,
    "pycharm": {
     "name": "#%%\n"
    }
   }
  },
  {
   "cell_type": "markdown",
   "source": [
    "## Define Necessary Functions"
   ],
   "metadata": {
    "collapsed": false,
    "pycharm": {
     "name": "#%% md\n"
    }
   }
  },
  {
   "cell_type": "code",
   "execution_count": null,
   "outputs": [],
   "source": [
    "## The Loss Function for this competition is the Root Mean Square Percentage Error. It is defined below\n",
    "# predictions = vector of predicted values\n",
    "# actuals = vector of training values\n",
    "\n",
    "def RMSPE(predictions, actuals):\n",
    "    np.sqrt(np.mean((predictions/actuals)-1))"
   ],
   "metadata": {
    "collapsed": false,
    "pycharm": {
     "name": "#%%\n"
    }
   }
  },
  {
   "cell_type": "markdown",
   "source": [
    "## Get Data ##"
   ],
   "metadata": {
    "collapsed": false,
    "pycharm": {
     "name": "#%% md\n"
    }
   }
  },
  {
   "cell_type": "markdown",
   "source": [
    "### Get Trade Training Data"
   ],
   "metadata": {
    "collapsed": false,
    "pycharm": {
     "name": "#%% md\n"
    }
   }
  },
  {
   "cell_type": "code",
   "execution_count": 3,
   "outputs": [],
   "source": [
    "############################### Get Trade Training Data #######################################\n",
    "\n",
    "os.chdir(r'C:\\Users\\Greg.Bone\\Documents\\GitHub\\Optiver_Volatility')\n",
    "\n",
    "trade_train_foldrs = os.listdir(r'Data\\trade_train.parquet')\n",
    "\n",
    "# Initialize list of trade tables #\n",
    "\n",
    "trade_train_lst = []\n",
    "\n",
    "for fldr in trade_train_foldrs:\n",
    "\n",
    "    os.chdir(os.path.join(r'C:\\Users\\Greg.Bone\\Documents\\GitHub\\Optiver_Volatility\\Data\\trade_train.parquet',fldr))\n",
    "    fldr_file = os.listdir(os.getcwd())\n",
    "    temp = pq.read_table(fldr_file, memory_map=True)\n",
    "    temp_id = temp.append_column('stock_id', pa.array([str(fldr)] * len(temp), pa.string()))\n",
    "    trade_train_lst.append(temp_id)\n",
    "\n",
    "for tbl in range(0,len(trade_train_lst),1):\n",
    "    trade_train_lst[tbl] = trade_train_lst[tbl].to_pandas()\n",
    "\n",
    "trade_train = pd.concat(trade_train_lst, axis=0).reset_index(drop=True)\n",
    "\n",
    "trade_train['stock_id'] = trade_train['stock_id'].str.replace('stock_id=','').astype('int32')\n",
    "\n",
    "# get rid of list to save working memory #\n",
    "\n",
    "del(trade_train_lst)"
   ],
   "metadata": {
    "collapsed": false,
    "pycharm": {
     "name": "#%%\n"
    }
   }
  },
  {
   "cell_type": "markdown",
   "source": [
    "### Get Order Book Training Data ##"
   ],
   "metadata": {
    "collapsed": false,
    "pycharm": {
     "name": "#%% md\n"
    }
   }
  },
  {
   "cell_type": "code",
   "execution_count": 4,
   "outputs": [],
   "source": [
    "## Initialize List of Apache Tables ##\n",
    "\n",
    "book_train_lst = []\n",
    "\n",
    "for fldr in book_train_foldrs:\n",
    "\n",
    "    os.chdir(os.path.join(r'C:\\Users\\Greg.Bone\\Documents\\GitHub\\Optiver_Volatility\\Data\\book_train.parquet',fldr))\n",
    "    fldr_file = os.listdir(os.getcwd())\n",
    "    temp = pq.read_table(fldr_file, memory_map=True)\n",
    "    temp_id = temp.append_column('stock_id', pa.array([str(fldr)] * len(temp), pa.string()))\n",
    "    book_train_lst.append(temp_id)\n",
    "\n",
    "for tbl in range(0,len(book_train_lst),1):\n",
    "    book_train_lst[tbl] = book_train_lst[tbl].to_pandas()\n",
    "\n",
    "book_train = pd.concat(book_train_lst, axis=0).reset_index(drop=True)\n",
    "\n",
    "book_train['stock_id'] = book_train['stock_id'].str.replace('stock_id=','').astype('int32')\n",
    "\n",
    "# get rid of list to save working memory #\n",
    "\n",
    "del(book_train_lst)"
   ],
   "metadata": {
    "collapsed": false,
    "pycharm": {
     "name": "#%%\n"
    }
   }
  },
  {
   "cell_type": "markdown",
   "source": [
    "### Get Target Variables"
   ],
   "metadata": {
    "collapsed": false,
    "pycharm": {
     "name": "#%% md\n"
    }
   }
  },
  {
   "cell_type": "code",
   "execution_count": 5,
   "outputs": [],
   "source": [
    "os.chdir(r'C:\\Users\\Greg.Bone\\Documents\\GitHub\\Optiver_Volatility')\n",
    "\n",
    "y_train = pd.read_csv(r\"C:\\Users\\Greg.Bone\\Documents\\GitHub\\Optiver_Volatility\\Data\\train.csv\")\n",
    "y_test = pd.read_csv(r\"C:\\Users\\Greg.Bone\\Documents\\GitHub\\Optiver_Volatility\\Data\\test.csv\")\n",
    "\n",
    "book_train = pd.merge(book_train, y_train, how='left', on = ['time_id','stock_id'])\n",
    "trade_train = pd.merge(trade_train, y_train, how='left', on = ['time_id','stock_id'])\n",
    "\n",
    "trade_train = trade_train.rename({'price':'trade_price','size':'trade_size'})\n"
   ],
   "metadata": {
    "collapsed": false,
    "pycharm": {
     "name": "#%%\n"
    }
   }
  },
  {
   "cell_type": "markdown",
   "source": [
    "## Calculate Log Return and Realized Volatility for Later"
   ],
   "metadata": {
    "collapsed": false,
    "pycharm": {
     "name": "#%% md\n"
    }
   }
  },
  {
   "cell_type": "markdown",
   "source": [
    "### Get Log Return and Realized Volatility"
   ],
   "metadata": {
    "collapsed": false,
    "pycharm": {
     "name": "#%% md\n"
    }
   }
  },
  {
   "cell_type": "code",
   "execution_count": 6,
   "outputs": [],
   "source": [
    "def log_return(prices):\n",
    "\n",
    "    log_return = np.log(prices).diff()\n",
    "\n",
    "    return log_return\n",
    "\n",
    "def realized_volatility(log_return):\n",
    "\n",
    "    return np.sqrt(np.sum(log_return**2))"
   ],
   "metadata": {
    "collapsed": false,
    "pycharm": {
     "name": "#%%\n"
    }
   }
  },
  {
   "cell_type": "markdown",
   "source": [
    "### Weighted Average Price, Log Return, and Realized Volatility Calculations"
   ],
   "metadata": {
    "collapsed": false,
    "pycharm": {
     "name": "#%% md\n"
    }
   }
  },
  {
   "cell_type": "code",
   "execution_count": 7,
   "outputs": [],
   "source": [
    "book_train['wap1'] = (book_train.bid_price1*book_train.ask_size1+book_train.ask_price1*book_train.bid_size1)/(book_train.bid_size1+book_train.ask_size1)\n",
    "book_train['wap2'] = (book_train.bid_price2*book_train.ask_size2+book_train.ask_price2*book_train.bid_size2)/(book_train.bid_size2+book_train.ask_size2)\n",
    "\n",
    "book_train.sort_values(['stock_id','time_id','seconds_in_bucket'])\n",
    "\n",
    "book_train['log_return'] = log_return(book_train['wap1'])\n",
    "\n",
    "rvol = book_train.groupby(['stock_id','time_id'])['log_return'].agg(realized_volatility).reset_index()\n",
    "rvol = rvol.rename(columns={'log_return':'realized_volatility'})"
   ],
   "metadata": {
    "collapsed": false,
    "pycharm": {
     "name": "#%%\n"
    }
   }
  },
  {
   "cell_type": "markdown",
   "source": [
    "## Inspect Initial Variables and Answer Some Questions?"
   ],
   "metadata": {
    "collapsed": false,
    "pycharm": {
     "name": "#%% md\n"
    }
   }
  },
  {
   "cell_type": "markdown",
   "source": [
    "### Visualize Volatility Across Different Stocks?"
   ],
   "metadata": {
    "collapsed": false,
    "pycharm": {
     "name": "#%% md\n"
    }
   }
  },
  {
   "cell_type": "code",
   "execution_count": 8,
   "outputs": [],
   "source": [
    "# We can't plot every stock, so let's pick six random ones and visualize their volatility and returns\n",
    "\n",
    "stocks = np.random.choice(rvol.stock_id.unique(), size=6)"
   ],
   "metadata": {
    "collapsed": false,
    "pycharm": {
     "name": "#%%\n"
    }
   }
  },
  {
   "cell_type": "code",
   "execution_count": 9,
   "outputs": [],
   "source": [
    "stocks_graphs = stocks"
   ],
   "metadata": {
    "collapsed": false,
    "pycharm": {
     "name": "#%%\n"
    }
   }
  },
  {
   "cell_type": "code",
   "execution_count": 10,
   "outputs": [],
   "source": [
    "sgraph = pd.pivot_table(rvol.loc[rvol['stock_id'].isin(stocks_graphs),:].reset_index(), index='time_id',columns='stock_id', values='realized_volatility')"
   ],
   "metadata": {
    "collapsed": false,
    "pycharm": {
     "name": "#%%\n"
    }
   }
  },
  {
   "cell_type": "code",
   "execution_count": 11,
   "outputs": [
    {
     "data": {
      "text/plain": "<Figure size 2160x1440 with 6 Axes>",
      "image/png": "[encoded data removed]"
     },
     "metadata": {
      "needs_background": "light"
     },
     "output_type": "display_data"
    }
   ],
   "source": [
    "sgraph.plot(kind='hist', bins=500,subplots=True, sharex=True, sharey=True)\n",
    "fig = plt.gcf()\n",
    "fig.set_size_inches(30, 20)"
   ],
   "metadata": {
    "collapsed": false,
    "pycharm": {
     "name": "#%%\n"
    }
   }
  },
  {
   "cell_type": "code",
   "execution_count": 12,
   "outputs": [
    {
     "data": {
      "text/plain": "<Figure size 1440x720 with 1 Axes>",
      "image/png": "[encoded data removed]"
     },
     "metadata": {
      "needs_background": "light"
     },
     "output_type": "display_data"
    }
   ],
   "source": [
    "rvol['realized_volatility'].plot(kind='hist',bins=500)\n",
    "fig = plt.gcf()\n",
    "fig.set_size_inches(20, 10)"
   ],
   "metadata": {
    "collapsed": false,
    "pycharm": {
     "name": "#%%\n"
    }
   }
  },
  {
   "cell_type": "markdown",
   "source": [
    "### Visualize Order Size Distribution Across Different Stocks"
   ],
   "metadata": {
    "collapsed": false,
    "pycharm": {
     "name": "#%% md\n"
    }
   }
  },
  {
   "cell_type": "code",
   "execution_count": 13,
   "outputs": [],
   "source": [
    "sizegraph = pd.pivot_table(trade_train.loc[trade_train['stock_id'].isin(stocks_graphs),:].reset_index(), index='time_id',columns='stock_id', values='size')"
   ],
   "metadata": {
    "collapsed": false,
    "pycharm": {
     "name": "#%%\n"
    }
   }
  },
  {
   "cell_type": "code",
   "execution_count": 14,
   "outputs": [
    {
     "data": {
      "text/plain": "<Figure size 2160x1440 with 6 Axes>",
      "image/png": "[encoded data removed]"
     },
     "metadata": {
      "needs_background": "light"
     },
     "output_type": "display_data"
    }
   ],
   "source": [
    "sizegraph.plot(kind='hist', bins=500,subplots=True, sharex=True, sharey=True)\n",
    "fig = plt.gcf()\n",
    "fig.set_size_inches(30, 20)"
   ],
   "metadata": {
    "collapsed": false,
    "pycharm": {
     "name": "#%%\n"
    }
   }
  },
  {
   "cell_type": "markdown",
   "source": [
    "The distribution of each stock's order size varies much more than realized volatility. Let's do some feature engineering and see how those variables perform."
   ],
   "metadata": {
    "collapsed": false,
    "pycharm": {
     "name": "#%% md\n"
    }
   }
  },
  {
   "cell_type": "markdown",
   "source": [
    "## Feature Engineering"
   ],
   "metadata": {
    "collapsed": false,
    "pycharm": {
     "name": "#%% md\n"
    }
   }
  },
  {
   "cell_type": "code",
   "execution_count": 18,
   "outputs": [],
   "source": [
    "# sort the data sets\n",
    "\n",
    "trade_train = trade_train.sort_values(['stock_id','time_id','seconds_in_bucket'])\n",
    "book_train = book_train.sort_values(['stock_id','time_id','seconds_in_bucket'])"
   ],
   "metadata": {
    "collapsed": false,
    "pycharm": {
     "name": "#%%\n"
    }
   }
  },
  {
   "cell_type": "markdown",
   "source": [
    "### Trade Data"
   ],
   "metadata": {
    "collapsed": false
   }
  },
  {
   "cell_type": "markdown",
   "source": [
    "Time plays an important role in this data set. We are trying to predict the volatility of the next ten minutes for each stock based on the previous data. Lagged and differenced variables will be key to success in this competition. Let's create those variables in both the trade and order book data sets and visualize them to search for trends."
   ],
   "metadata": {
    "collapsed": false
   }
  },
  {
   "cell_type": "markdown",
   "source": [
    "#### Let's Generate Some Variables and Examine Their Significance in the Data?\n",
    "\n",
    "1. Lagged order count, price, and size for each stock_id and time_id\n",
    "2. Sum of size and order count for each stock_id and time_id"
   ],
   "metadata": {
    "collapsed": false,
    "pycharm": {
     "name": "#%% md\n"
    }
   }
  },
  {
   "cell_type": "code",
   "execution_count": 67,
   "outputs": [],
   "source": [
    "## Lagged Order count, price, and size\n",
    "\n",
    "trade_depvars = trade_train.groupby(['stock_id','time_id']).agg(total_count = ('order_count', sum), total_size = ('size', sum)).reset_index()"
   ],
   "metadata": {
    "collapsed": false,
    "pycharm": {
     "name": "#%%\n"
    }
   }
  },
  {
   "cell_type": "markdown",
   "source": [
    "### Book Data"
   ],
   "metadata": {
    "collapsed": false,
    "pycharm": {
     "name": "#%% md\n"
    }
   }
  },
  {
   "cell_type": "markdown",
   "source": [
    "#### Let's Generate Some Variables and Examine Their Significance in the Data?\n",
    "\n",
    "1. Average spread (bid_price1-ask_price1) by stock_id and time_id. Do the same for the second best price.\n",
    "2. Lags of average spread\n",
    "3. Weighted Average Price for the first and second best prices.\n",
    "4. sum of bid and ask sizes for each stock_id and time_id\n"
   ],
   "metadata": {
    "collapsed": false,
    "pycharm": {
     "name": "#%% md\n"
    }
   }
  },
  {
   "cell_type": "code",
   "execution_count": null,
   "outputs": [],
   "source": [],
   "metadata": {
    "collapsed": false,
    "pycharm": {
     "name": "#%%\n"
    }
   }
  },
  {
   "cell_type": "markdown",
   "source": [],
   "metadata": {
    "collapsed": false,
    "pycharm": {
     "name": "#%% md\n"
    }
   }
  }
 ],
 "metadata": {
  "kernelspec": {
   "display_name": "Python 3",
   "language": "python",
   "name": "python3"
  },
  "language_info": {
   "codemirror_mode": {
    "name": "ipython",
    "version": 2
   },
   "file_extension": ".py",
   "mimetype": "text/x-python",
   "name": "python",
   "nbconvert_exporter": "python",
   "pygments_lexer": "ipython2",
   "version": "2.7.6"
  }
 },
 "nbformat": 4,
 "nbformat_minor": 0
}